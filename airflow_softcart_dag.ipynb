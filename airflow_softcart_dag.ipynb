{
 "cells": [
  {
   "cell_type": "code",
   "execution_count": null,
   "id": "3077afeb",
   "metadata": {},
   "outputs": [],
   "source": [
    "# import the libraries\n",
    "from datetime import timedelta\n",
    "from airflow import DAG\n",
    "from airflow.operators.bash_operator import BashOperator\n",
    "from airflow.utils.dates import days_ago\n",
    "\n",
    "\n",
    "# dag arguments\n",
    "default_args = {'owner': 'softcart',\n",
    "               'start_date': days_ago(0),\n",
    "               'email': ['amadidominic1@gmail.com'],\n",
    "                'email_on_delivery': False,\n",
    "                'email_failure': False\n",
    "               'retries': 1\n",
    "               'retry_delay': timedelta(minutes=3),}\n",
    "\n",
    "\n",
    "# defining dag\n",
    "dag = DAG('process_web_log',\n",
    "         default_args = default_args,\n",
    "         description= 'softcart'\n",
    "         schedule_interval  = timedelta(days=1),)\n",
    "\n",
    "\n",
    "#task1\n",
    "extract_data = BashOperator(task_id= 'extract_data',\n",
    "    bash_command= 'cut -d\" \" -f1 /home/project/airflow/dags/capstone/accesslog.txt > /home/project/airflow/dags/capstone/extracted_data.txt',\n",
    "    dag=dag,)\n",
    "\n",
    "\n",
    "#task2\n",
    "transform_data = BashOperator(task_id= 'transform_data',\n",
    "    bash_command='cat /home/project/airflow/dags/capstone/extracted_data | grep \"198.46.149.143\" > /home/project/airflow/dags/capstone/transformed_data.txt', \n",
    "    dag=dag,)\n",
    "\n",
    "\n",
    "#task3\n",
    "load_data= BashOperator(task_id= 'load_data''\n",
    "    bash_command= 'tar -cvf /home/project/airflow/dags/capstone/weblog.tar /home/project/airflow/dags/capstone/transformed_data.txt',\n",
    "    dag=dag,)\n",
    "\n",
    "\n",
    "# Task Pipeline\n",
    "extract_data >> transform_data >> load_data"
   ]
  }
 ],
 "metadata": {
  "kernelspec": {
   "display_name": "Python 3 (ipykernel)",
   "language": "python",
   "name": "python3"
  },
  "language_info": {
   "codemirror_mode": {
    "name": "ipython",
    "version": 3
   },
   "file_extension": ".py",
   "mimetype": "text/x-python",
   "name": "python",
   "nbconvert_exporter": "python",
   "pygments_lexer": "ipython3",
   "version": "3.9.13"
  }
 },
 "nbformat": 4,
 "nbformat_minor": 5
}
